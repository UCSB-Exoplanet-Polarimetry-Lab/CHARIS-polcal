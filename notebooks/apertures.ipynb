{
 "cells": [
  {
   "cell_type": "code",
   "execution_count": 7,
   "metadata": {},
   "outputs": [],
   "source": [
    "import numpy as np\n",
    "import matplotlib.pyplot as plt\n",
    "from matplotlib.colors import LogNorm\n",
    "import astropy.units as u\n",
    "from astropy.io import fits\n",
    "from astropy.utils import data\n",
    "\n",
    "from photutils.aperture import CircularAperture\n",
    "\n",
    "#import flattened example cube\n",
    "cube_1 = "
   ]
  }
 ],
 "metadata": {
  "kernelspec": {
   "display_name": "charisenv",
   "language": "python",
   "name": "python3"
  },
  "language_info": {
   "codemirror_mode": {
    "name": "ipython",
    "version": 3
   },
   "file_extension": ".py",
   "mimetype": "text/x-python",
   "name": "python",
   "nbconvert_exporter": "python",
   "pygments_lexer": "ipython3",
   "version": "3.11.13"
  }
 },
 "nbformat": 4,
 "nbformat_minor": 2
}
